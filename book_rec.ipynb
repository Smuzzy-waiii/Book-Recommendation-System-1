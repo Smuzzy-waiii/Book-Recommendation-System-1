{
 "cells": [
  {
   "cell_type": "code",
   "execution_count": 44,
   "metadata": {},
   "outputs": [
    {
     "name": "stdout",
     "output_type": "stream",
     "text": [
      "Enter rating w/wo <rating> or random for book suggestion\n",
      "enter to search rating 1.5 1.7\n",
      "Title:   The Art of Loving by Erich Fromm: A True Story of a Japanese Woman\n",
      "Author:   Lala Okamoto\n",
      "Rating:   1.67\n",
      "Enjoy!\n"
     ]
    }
   ],
   "source": [
    "# Importing libraries\n",
    "import pandas as pd\n",
    "def recommendation():\n",
    "    \n",
    "    # Read csv file into a pandas dataframe\n",
    "    df = pd.read_csv(\"books.csv\")\n",
    "    df = df[df.language_code =='eng']\n",
    "    df['Title'] = df['title'].str.split('(').str[0]\n",
    "    print(\"Enter rating w/wo <rating> or random for book suggestion\")\n",
    "    search= input(\"enter to search \")\n",
    "    if search==\"random\":\n",
    "        df_new= df.sample(replace=True)[['Title', 'authors',\"rating\"]]\n",
    "        print(\"Title: \", df_new[['Title']].to_string(index=False, header=False))\n",
    "        print(\"Author: \", df_new[['authors']].to_string(index=False, header=False))\n",
    "        print(\"Rating: \", df_new[['rating']].to_string(index=False, header=False))\n",
    "        return \"Enjoy!\"\n",
    "    else:\n",
    "        if \"rating\" in search:\n",
    "            uboundgiven = False\n",
    "            search=search.split()\n",
    "            if len(search)>3 or len(search)==1:\n",
    "                print(\"Usage: rating lower_value [higher value]\")\n",
    "                return \"Please Correct\"\n",
    "            \n",
    "            rate = float(search[1])\n",
    "            if len(search)==3:\n",
    "                uboundgiven = True\n",
    "                urate = float(search[2])\n",
    "                \n",
    "            if not uboundgiven:               \n",
    "                if rate < 0 or rate > 5:\n",
    "                    print(\"Error: Enter rating between 0 and 5\")\n",
    "                    return \"Please Correct\"\n",
    "                else:\n",
    "                    df_rate = df[df['rating'].astype(float) >= rate]\n",
    "                    df_new= df_rate.sample(replace=True)[['Title', 'authors',\"rating\"]]\n",
    "                    print(\"Title: \", df_new[['Title']].to_string(index=False, header=False))\n",
    "                    print(\"Author: \", df_new[['authors']].to_string(index=False, header=False))\n",
    "                    print(\"Rating: \", df_new[['rating']].to_string(index=False, header=False))\n",
    "                    return \"Enjoy!\"\n",
    "                \n",
    "            else:\n",
    "                if urate < 0 or urate > 5:\n",
    "                    print(\"Error: Enter rating between 0 and 5\")\n",
    "                    return \"Please Correct\"\n",
    "                elif urate < rate:\n",
    "                    print(\"Error: lower value must be lower than higher value.\\nUsage: rating lower_value [higher value]\")\n",
    "                    return \"Please Correct\"\n",
    "                else:\n",
    "                    df_upper = df[df['rating'].astype(float) >= rate]\n",
    "                    df_lower = df[df['rating'].astype(float) <= urate]\n",
    "                    df_rate = pd.merge(df_upper, df_lower, how='inner', on=['bookID', 'title', 'authors', 'rating', 'language_code', '  num_pages','ratings_count','ratings_count', 'text_reviews_count'])\n",
    "                    df_new= df_rate.sample(replace=True)[['title', 'authors',\"rating\"]]\n",
    "                    print(\"Title: \", df_new[['title']].to_string(index=False, header=False))\n",
    "                    print(\"Author: \", df_new[['authors']].to_string(index=False, header=False))\n",
    "                    print(\"Rating: \", df_new[['rating']].to_string(index=False, header=False))\n",
    "                    return \"Enjoy!\"\n",
    "print(recommendation())"
   ]
  },
  {
   "cell_type": "code",
   "execution_count": 37,
   "metadata": {},
   "outputs": [
    {
     "name": "stdout",
     "output_type": "stream",
     "text": [
      "                                               title  \\\n",
      "3052  The Road to Jerusalem (The Knight Templar  #1)   \n",
      "\n",
      "                        authors rating  \n",
      "3052  Jan Guillou/Anna Paterson      4  \n"
     ]
    }
   ],
   "source": [
    "df = pd.read_csv(\"books.csv\")\n",
    "df = df[df.language_code =='eng']\n",
    "df['Title'] = df['title'].str.split('(').str[0]\n",
    "\n",
    "df_upper = df[df['rating'].astype(float) >= 3.0]\n",
    "df_lower = df[df['rating'].astype(float) <= 4.0]\n",
    "df_rate = pd.merge(df_upper, df_lower, how='inner', on=['bookID', 'title', 'authors', 'rating', 'language_code', '  num_pages','ratings_count','ratings_count', 'text_reviews_count'])\n",
    "df_new= df_rate.sample(replace=True)[['title', 'authors',\"rating\"]]\n",
    "print(df_new)"
   ]
  },
  {
   "cell_type": "code",
   "execution_count": null,
   "metadata": {},
   "outputs": [],
   "source": []
  },
  {
   "cell_type": "code",
   "execution_count": null,
   "metadata": {},
   "outputs": [],
   "source": []
  },
  {
   "cell_type": "code",
   "execution_count": null,
   "metadata": {},
   "outputs": [],
   "source": []
  }
 ],
 "metadata": {
  "kernelspec": {
   "display_name": "Python 3",
   "language": "python",
   "name": "python3"
  }
 },
 "nbformat": 4,
 "nbformat_minor": 4
}
